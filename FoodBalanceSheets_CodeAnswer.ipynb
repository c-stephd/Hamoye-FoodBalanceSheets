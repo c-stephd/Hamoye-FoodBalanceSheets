{
 "cells": [
  {
   "cell_type": "code",
   "execution_count": null,
   "id": "attended-hammer",
   "metadata": {},
   "outputs": [],
   "source": [
    "import pandas as pd\n",
    "import numpy as np"
   ]
  },
  {
   "cell_type": "code",
   "execution_count": null,
   "id": "compound-spanking",
   "metadata": {},
   "outputs": [],
   "source": [
    "food_data = pd.read_csv('FoodBalanceSheets_E_Africa_NOFLAG.csv', encoding = \"ISO-8859-1\")\n",
    "\n",
    "food_data.head(10)"
   ]
  },
  {
   "cell_type": "code",
   "execution_count": null,
   "id": "swiss-profit",
   "metadata": {},
   "outputs": [],
   "source": [
    "food_data.shape"
   ]
  },
  {
   "cell_type": "code",
   "execution_count": null,
   "id": "seventh-pattern",
   "metadata": {},
   "outputs": [],
   "source": [
    "food_data['Element'].unique()"
   ]
  },
  {
   "cell_type": "markdown",
   "id": "impaired-campaign",
   "metadata": {},
   "source": [
    "## Solution 11"
   ]
  },
  {
   "cell_type": "code",
   "execution_count": null,
   "id": "regulation-hanging",
   "metadata": {},
   "outputs": [],
   "source": [
    "food_data['Item'].unique()"
   ]
  },
  {
   "cell_type": "code",
   "execution_count": null,
   "id": "mineral-reconstruction",
   "metadata": {},
   "outputs": [],
   "source": [
    "'Animal fats' in food_data['Item'].unique()"
   ]
  },
  {
   "cell_type": "code",
   "execution_count": null,
   "id": "subjective-asthma",
   "metadata": {},
   "outputs": [],
   "source": [
    "an_fat = food_data.groupby('Item').agg({'Y2014': sum, 'Y2017': sum})\n",
    "\n",
    "an_fat.loc['Animal fats']"
   ]
  },
  {
   "cell_type": "markdown",
   "id": "given-kingdom",
   "metadata": {},
   "source": [
    "## Solution 12"
   ]
  },
  {
   "cell_type": "code",
   "execution_count": null,
   "id": "domestic-image",
   "metadata": {},
   "outputs": [],
   "source": [
    "food_data['Y2015'].describe()"
   ]
  },
  {
   "cell_type": "markdown",
   "id": "pharmaceutical-particle",
   "metadata": {},
   "source": [
    "## Solution 13"
   ]
  },
  {
   "cell_type": "code",
   "execution_count": null,
   "id": "mineral-fleece",
   "metadata": {},
   "outputs": [],
   "source": [
    "food_data['Y2016'].isna().sum()"
   ]
  },
  {
   "cell_type": "markdown",
   "id": "cardiovascular-resident",
   "metadata": {},
   "source": [
    "## Solution 14"
   ]
  },
  {
   "cell_type": "code",
   "execution_count": null,
   "id": "differential-procurement",
   "metadata": {},
   "outputs": [],
   "source": [
    "food_data.corr()"
   ]
  },
  {
   "cell_type": "markdown",
   "id": "lesser-ecuador",
   "metadata": {},
   "source": [
    "## Solution 15"
   ]
  },
  {
   "cell_type": "code",
   "execution_count": null,
   "id": "thrown-reverse",
   "metadata": {},
   "outputs": [],
   "source": [
    "Element= food_data.groupby('Element').sum()\n",
    "\n",
    "Element.loc['Import Quantity', 'Y2014' : 'Y2018']"
   ]
  },
  {
   "cell_type": "markdown",
   "id": "turkish-laptop",
   "metadata": {},
   "source": [
    "## Solution 16"
   ]
  },
  {
   "cell_type": "code",
   "execution_count": null,
   "id": "contemporary-plymouth",
   "metadata": {},
   "outputs": [],
   "source": [
    "Element"
   ]
  },
  {
   "cell_type": "code",
   "execution_count": null,
   "id": "organizational-playing",
   "metadata": {},
   "outputs": [],
   "source": [
    "Element.loc['Production', 'Y2014']"
   ]
  },
  {
   "cell_type": "markdown",
   "id": "convertible-dominant",
   "metadata": {},
   "source": [
    "## Solution 17"
   ]
  },
  {
   "cell_type": "code",
   "execution_count": null,
   "id": "focal-aquarium",
   "metadata": {},
   "outputs": [],
   "source": [
    "max_val = Element['Y2018'].max()\n",
    "\n",
    "Element[Element['Y2018'] == max_val]"
   ]
  },
  {
   "cell_type": "markdown",
   "id": "derived-gravity",
   "metadata": {},
   "source": [
    "## Solution 18"
   ]
  },
  {
   "cell_type": "code",
   "execution_count": null,
   "id": "corresponding-track",
   "metadata": {},
   "outputs": [],
   "source": [
    "Element.sort_values('Y2018')"
   ]
  },
  {
   "cell_type": "markdown",
   "id": "purple-metabolism",
   "metadata": {},
   "source": [
    "## Solution 19"
   ]
  },
  {
   "cell_type": "code",
   "execution_count": null,
   "id": "organizational-southeast",
   "metadata": {},
   "outputs": [],
   "source": [
    "food_data.head(10)"
   ]
  },
  {
   "cell_type": "code",
   "execution_count": null,
   "id": "processed-armor",
   "metadata": {},
   "outputs": [],
   "source": [
    "food_alg = food_data[food_data['Area'] == 'Algeria']\n",
    "\n",
    "food_alg"
   ]
  },
  {
   "cell_type": "code",
   "execution_count": null,
   "id": "characteristic-baking",
   "metadata": {},
   "outputs": [],
   "source": [
    "food_alg.groupby('Element')['Y2018'].sum()"
   ]
  },
  {
   "cell_type": "markdown",
   "id": "unexpected-catch",
   "metadata": {},
   "source": [
    "## Solution 20"
   ]
  },
  {
   "cell_type": "code",
   "execution_count": null,
   "id": "inclusive-climb",
   "metadata": {},
   "outputs": [],
   "source": [
    "food_data['Area'].describe()"
   ]
  },
  {
   "cell_type": "code",
   "execution_count": null,
   "id": "interested-struggle",
   "metadata": {},
   "outputs": [],
   "source": []
  }
 ],
 "metadata": {
  "kernelspec": {
   "display_name": "Python 3",
   "language": "python",
   "name": "python3"
  },
  "language_info": {
   "codemirror_mode": {
    "name": "ipython",
    "version": 3
   },
   "file_extension": ".py",
   "mimetype": "text/x-python",
   "name": "python",
   "nbconvert_exporter": "python",
   "pygments_lexer": "ipython3",
   "version": "3.9.1"
  }
 },
 "nbformat": 4,
 "nbformat_minor": 5
}
